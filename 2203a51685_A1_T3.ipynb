{
  "nbformat": 4,
  "nbformat_minor": 0,
  "metadata": {
    "colab": {
      "provenance": []
    },
    "kernelspec": {
      "name": "python3",
      "display_name": "Python 3"
    },
    "language_info": {
      "name": "python"
    }
  },
  "cells": [
    {
      "cell_type": "code",
      "source": [
        "import pandas as pd\n",
        "df_tsv = pd.read_csv(\"/2203A51685 - Sheet1.tsv\")\n",
        "print(df_tsv)"
      ],
      "metadata": {
        "colab": {
          "base_uri": "https://localhost:8080/"
        },
        "id": "5rwnNS5EMiAa",
        "outputId": "dea50eab-74f2-4d2c-e719-5e692f1b4da1"
      },
      "execution_count": 2,
      "outputs": [
        {
          "output_type": "stream",
          "name": "stdout",
          "text": [
            "  age\\theight\n",
            "0     12\\t115\n",
            "1     13\\t130\n",
            "2     46\\t167\n",
            "3     20\\t145\n",
            "4     34\\t153\n"
          ]
        }
      ]
    },
    {
      "cell_type": "markdown",
      "source": [],
      "metadata": {
        "id": "l5yr3NFHMnTN"
      }
    },
    {
      "cell_type": "code",
      "source": [
        "df_csv = pd.read_csv(\"/2203A51685 - Sheet1.tsv\")\n",
        "print(df_csv)"
      ],
      "metadata": {
        "colab": {
          "base_uri": "https://localhost:8080/"
        },
        "id": "iItk5FEDMn5Q",
        "outputId": "3732fec5-0be2-4b46-e4c0-4a55ebfdfaa4"
      },
      "execution_count": 3,
      "outputs": [
        {
          "output_type": "stream",
          "name": "stdout",
          "text": [
            "  age\\theight\n",
            "0     12\\t115\n",
            "1     13\\t130\n",
            "2     46\\t167\n",
            "3     20\\t145\n",
            "4     34\\t153\n"
          ]
        }
      ]
    },
    {
      "cell_type": "code",
      "source": [
        "df_xlsx = pd.read_excel(\"/2203A51685.xlsx\")\n",
        "print(df_xlsx)"
      ],
      "metadata": {
        "colab": {
          "base_uri": "https://localhost:8080/"
        },
        "id": "0NLWy2IDMtH4",
        "outputId": "b448b2a4-e6c0-4896-9cf9-f571a824f033"
      },
      "execution_count": 4,
      "outputs": [
        {
          "output_type": "stream",
          "name": "stdout",
          "text": [
            "   age  height\n",
            "0   12     115\n",
            "1   13     130\n",
            "2   46     167\n",
            "3   20     145\n",
            "4   34     153\n"
          ]
        }
      ]
    },
    {
      "cell_type": "code",
      "source": [
        "url = \"https://github.com/pavanputta5454/AIML-TASK-3.git\"\n",
        "df_url = pd.read_csv(url,'\\t')\n",
        "print(df_url)"
      ],
      "metadata": {
        "colab": {
          "base_uri": "https://localhost:8080/"
        },
        "id": "iPXssSKcM0OC",
        "outputId": "4eb4af5d-fb7b-464c-b174-3a8ff5d24cd3"
      },
      "execution_count": 5,
      "outputs": [
        {
          "output_type": "stream",
          "name": "stderr",
          "text": [
            "<ipython-input-5-92f5d2bacac7>:2: FutureWarning: In a future version of pandas all arguments of read_csv except for the argument 'filepath_or_buffer' will be keyword-only.\n",
            "  df_url = pd.read_csv(url,'\\t')\n"
          ]
        },
        {
          "output_type": "stream",
          "name": "stdout",
          "text": [
            "                                        <!DOCTYPE html>\n",
            "0                                                 <html\n",
            "1                                             lang=\"en\"\n",
            "2       data-color-mode=\"auto\" data-light-theme=\"lig...\n",
            "3       data-a11y-animated-images=\"system\" data-a11y...\n",
            "4                                                     >\n",
            "...                                                 ...\n",
            "1260                                             </div>\n",
            "1261      <div id=\"js-global-screen-reader-notice\" c...\n",
            "1262      <div id=\"js-global-screen-reader-notice-as...\n",
            "1263                                            </body>\n",
            "1264                                            </html>\n",
            "\n",
            "[1265 rows x 1 columns]\n"
          ]
        }
      ]
    }
  ]
}
